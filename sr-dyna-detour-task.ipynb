{
 "cells": [
  {
   "cell_type": "markdown",
   "metadata": {},
   "source": [
    "# SR-Dyna (Detour Task)"
   ]
  },
  {
   "cell_type": "code",
   "execution_count": 8,
   "metadata": {},
   "outputs": [],
   "source": [
    "import matplotlib.pyplot as plt\n",
    "import numpy as np\n",
    "import srdyna\n",
    "import importlib"
   ]
  },
  {
   "cell_type": "code",
   "execution_count": 9,
   "metadata": {},
   "outputs": [
    {
     "data": {
      "text/plain": [
       "<module 'srdyna' from '/Users/jeremygordon/repos/notebooks/sr-dyna-impl/srdyna.py'>"
      ]
     },
     "execution_count": 9,
     "metadata": {},
     "output_type": "execute_result"
    }
   ],
   "source": [
    "importlib.reload(srdyna)"
   ]
  },
  {
   "cell_type": "code",
   "execution_count": 10,
   "metadata": {},
   "outputs": [
    {
     "name": "stdout",
     "output_type": "stream",
     "text": [
      "Loaded 10x10 world\n"
     ]
    },
    {
     "data": {
      "image/png": "[encoded data removed]",
      "text/plain": [
       "<Figure size 864x576 with 4 Axes>"
      ]
     },
     "metadata": {
      "needs_background": "light"
     },
     "output_type": "display_data"
    },
    {
     "data": {
      "image/png": "[encoded data removed]",
      "text/plain": [
       "<Figure size 864x576 with 4 Axes>"
      ]
     },
     "metadata": {
      "needs_background": "light"
     },
     "output_type": "display_data"
    }
   ],
   "source": [
    "# Detour Task\n",
    "REPLAY = \"sufficient\"\n",
    "EXPLORE_STEPS = 10000\n",
    "POST_REWARD_TRIALS = 5\n",
    "WALL_LEARNING_STEPS = 40\n",
    "REPLAY_STEPS = {\n",
    "    \"insufficient\": 10,\n",
    "    \"sufficient\": 10000\n",
    "}[REPLAY]\n",
    "env = srdyna.SimpleGridWorld(world='worlds/detour_task.txt')\n",
    "S_LOC = (0, 5)\n",
    "agent = srdyna.SRDyna(id=0, loc=S_LOC, env=env)\n",
    "\n",
    "# Explore\n",
    "for i in range(EXPLORE_STEPS):\n",
    "    agent.step(random_policy=True)\n",
    "\n",
    "# Add reward\n",
    "R_LOC = (9, 5)\n",
    "env.reward_locs[R_LOC] = 10\n",
    "\n",
    "for i in range(POST_REWARD_TRIALS):\n",
    "    # Repeated trials from S (until reward reached)\n",
    "    agent.terminate_episode(reset_state=env.state_at_loc(S_LOC))\n",
    "    done = False\n",
    "    steps = 0\n",
    "    MAX_STEPS = 1000\n",
    "    while not done and steps < MAX_STEPS:\n",
    "        done = agent.step(verbose=False)\n",
    "        steps += 1\n",
    "\n",
    "fig, axs = plt.subplots(1, 4, dpi=144)\n",
    "env.render(agent, ax=axs[0], last_k_steps=30)\n",
    "agent.render_state_values(ax=axs[1], fig=fig)\n",
    "agent.render_W(ax=axs[2], fig=fig)\n",
    "agent.render_sr(env.state_at_loc((1, 7)), ax=axs[3])\n",
    "plt.show()\n",
    "\n",
    "# Add barrier\n",
    "B_LOC = (5, 5)\n",
    "S2_LOC = (4, 5)\n",
    "env.wall_coords.append(B_LOC)\n",
    "env.map = env.get_map()\n",
    "    \n",
    "for i in range(WALL_LEARNING_STEPS):\n",
    "    # One-step runs from left of new wall\n",
    "    reset_state = env.state_at_loc(S2_LOC)\n",
    "    agent.terminate_episode(reset_state=reset_state)\n",
    "    agent.step()\n",
    "\n",
    "for i in range(REPLAY_STEPS):\n",
    "    # One-step replay samples from random sa's\n",
    "    from_sa = agent.random_experience_sa()\n",
    "    experiences_from_sa = agent.weighted_experience_samples(k=1, from_sa=from_sa)\n",
    "    agent.learn_offline(samples=experiences_from_sa)\n",
    "    \n",
    "fig, axs = plt.subplots(1, 4, dpi=144)\n",
    "env.render(agent, ax=axs[0], last_k_steps=30)\n",
    "agent.render_state_values(ax=axs[1], fig=fig)\n",
    "agent.render_W(ax=axs[2], fig=fig)\n",
    "agent.render_sr(env.state_at_loc((1, 7)), ax=axs[3])\n",
    "plt.show()"
   ]
  },
  {
   "cell_type": "code",
   "execution_count": 11,
   "metadata": {},
   "outputs": [
    {
     "data": {
      "image/png": "[encoded data removed]",
      "text/plain": [
       "<Figure size 504x216 with 4 Axes>"
      ]
     },
     "metadata": {
      "needs_background": "light"
     },
     "output_type": "display_data"
    }
   ],
   "source": [
    "agent.record_trials(title=\"detour\", start_locs=[(0, 5), (4, 5), (7, 0), (7, 7)])"
   ]
  }
 ],
 "metadata": {
  "kernelspec": {
   "display_name": "Python 3",
   "language": "python",
   "name": "python3"
  },
  "language_info": {
   "codemirror_mode": {
    "name": "ipython",
    "version": 3
   },
   "file_extension": ".py",
   "mimetype": "text/x-python",
   "name": "python",
   "nbconvert_exporter": "python",
   "pygments_lexer": "ipython3",
   "version": "3.7.3"
  }
 },
 "nbformat": 4,
 "nbformat_minor": 4
}
